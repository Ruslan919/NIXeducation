{
  "nbformat": 4,
  "nbformat_minor": 0,
  "metadata": {
    "colab": {
      "name": "BeginnerNix.ipynb",
      "provenance": [],
      "collapsed_sections": []
    },
    "kernelspec": {
      "name": "python3",
      "display_name": "Python 3"
    },
    "language_info": {
      "name": "python"
    }
  },
  "cells": [
    {
      "cell_type": "code",
      "source": [
        "https://pythontutor.com/\n",
        "\"\"\"\n",
        "Напишите template строки, который можно будет многократно переиспользовать,\n",
        "вставляя в него имя и фамилию человека.\n",
        "Используйте метод строки \"format\". \n",
        "\"\"\"\n",
        "name= input(\"name:\")\n",
        "surname= input(\"surname:\")\n",
        "print('name:{0} and surname:{1}'.format(name, surname))"
      ],
      "metadata": {
        "colab": {
          "base_uri": "https://localhost:8080/"
        },
        "id": "rccH46-hv4JD",
        "outputId": "a01034dc-f299-4081-b390-f32dcd15b3f4"
      },
      "execution_count": null,
      "outputs": [
        {
          "output_type": "stream",
          "name": "stdout",
          "text": [
            "name:1\n",
            "surname:2\n",
            "name:1 and surname:2\n"
          ]
        }
      ]
    },
    {
      "cell_type": "code",
      "source": [
        "'''\n",
        "Напишите функцию, которая будет преобразовывать цену к формату,\n",
        "отображающему до двух знаков после точки, например:\n",
        "22.32131 -> 22.32\n",
        "58.60125 -> 58.6\n",
        "34.0 -> 34\n",
        "'''\n",
        "def trans():\n",
        "  try:\n",
        "    namber =  float(input(\"float namber:\"))\n",
        "  except ValueError:\n",
        "    return\n",
        "  a = str(\"%.2f\" % namber)\n",
        "  return print('namber{} '.format(a[:-1]))\n",
        "\n",
        "t = trans()\n",
        "\n"
      ],
      "metadata": {
        "colab": {
          "base_uri": "https://localhost:8080/"
        },
        "id": "p6aTJ065wy3M",
        "outputId": "cc5f4fb9-7855-41c3-8f90-d59b423bae27"
      },
      "execution_count": null,
      "outputs": [
        {
          "output_type": "stream",
          "name": "stdout",
          "text": [
            "float namber:58.60125\n",
            "name58.6 \n"
          ]
        }
      ]
    },
    {
      "cell_type": "code",
      "source": [
        "'''\n",
        "Дан список из строк. \n",
        "Создайте однострочное решение (при помощи list comprehension), \n",
        "которое приведёт к верхнему регистру все строки, содержащие слово 'price')\n",
        "'''\n",
        "thislist = [\"apple_price\", \"banana\", \"cherry_price\", \"apple\", \"cherry\"]\n",
        "\n",
        "list_2 = [print(item.upper()) for item in thislist if 'price' in item]\n"
      ],
      "metadata": {
        "id": "_6n4IJ1IWcvO",
        "colab": {
          "base_uri": "https://localhost:8080/"
        },
        "outputId": "9755785b-c206-47ba-9eaa-d531b06e1f0a"
      },
      "execution_count": null,
      "outputs": [
        {
          "output_type": "stream",
          "name": "stdout",
          "text": [
            "APPLE_PRICE\n",
            "CHERRY_PRICE\n"
          ]
        }
      ]
    },
    {
      "cell_type": "code",
      "source": [
        "\"\"\" \n",
        "Напишите функцию, которая принимает список, и число. \n",
        "Функция должна разбить список на N кусков, \n",
        "переданных в функцию в качестве втрого аргумента. \n",
        "Выполнить проверки по здравому смыслу \n",
        "(например, нет смысла пытаться разбить список из 3 элементов на 4 элемента)\n",
        "\"\"\"\n",
        "\n",
        "\n",
        "def func_chunk(lst, n):\n",
        "    if len(lst) % n != 0:\n",
        "      raise Exception(\"Sorry, You are trying to split the list into more parts than is possible.\")\n",
        "    for x in range(0, len(lst), n):\n",
        "        e_c = lst[x : n + x]\n",
        "        yield e_c\n",
        "\n",
        "print(list(func_chunk([9, 8, 7, 6, 5, 4, 3, 2, 1], 3)))\n",
        "#print(list(func_chunk([9, 8, 7, 6, 5, 4, 3, 2, 1], 4)))"
      ],
      "metadata": {
        "id": "Ee-ei3mOTNLG",
        "colab": {
          "base_uri": "https://localhost:8080/"
        },
        "outputId": "3f09e830-1dd1-4910-84d0-4030fc6ce74f"
      },
      "execution_count": null,
      "outputs": [
        {
          "output_type": "stream",
          "name": "stdout",
          "text": [
            "0\n",
            "[9, 8, 7]\n",
            "3\n",
            "[6, 5, 4]\n",
            "6\n",
            "[3, 2, 1]\n",
            "[[9, 8, 7], [6, 5, 4], [3, 2, 1]]\n"
          ]
        }
      ]
    },
    {
      "cell_type": "code",
      "source": [
        "\"\"\"\n",
        "Дана строка из имён, в формате \"Денис, Олег, Вася, Петя,Дима,Женя\". \n",
        "Разбейте строку так, чтобы получился список имён. \n",
        "Заметьте: после запятой не всегда есть пробел \n",
        "(он не должен входить в имена, которые попадут в список)\n",
        "\"\"\"\n",
        "\n",
        "name = \"Денис, Олег, Вася, Петя,Дима,Женя\"\n",
        "disallowed_characters = \" \"\n",
        "\n",
        "for character in disallowed_characters:\n",
        "\tname = name.replace(character, \"\")\n",
        "lst_name= name.split(',')\n",
        "\n",
        "print(lst_name)"
      ],
      "metadata": {
        "colab": {
          "base_uri": "https://localhost:8080/"
        },
        "id": "HGLZq5tJty_l",
        "outputId": "68e6c9ac-b513-4d71-b25f-aee326b64bfd"
      },
      "execution_count": null,
      "outputs": [
        {
          "output_type": "stream",
          "name": "stdout",
          "text": [
            "['Денис', 'Олег', 'Вася', 'Петя', 'Дима', 'Женя']\n"
          ]
        }
      ]
    },
    {
      "cell_type": "code",
      "source": [
        "\"\"\"\n",
        "7. \tДан список из строк. \n",
        "Используя join, соедините строки так, чтобы они были разделены через запятую. \n",
        "На выходе должна получиться строка в виде \"my_string1,my_string2,my_string3\" \t\n",
        "\"\"\"\n",
        "lst= ['my_string1', 'my_string2', 'my_string3']\n",
        "print(\",\".join(lst))\n"
      ],
      "metadata": {
        "colab": {
          "base_uri": "https://localhost:8080/"
        },
        "id": "6HbOT6yyGLKv",
        "outputId": "bb70dccd-76fc-4483-ab47-e1e5296a6a9d"
      },
      "execution_count": null,
      "outputs": [
        {
          "output_type": "stream",
          "name": "stdout",
          "text": [
            "my_string1,my_string2,my_string3\n"
          ]
        }
      ]
    },
    {
      "cell_type": "code",
      "source": [
        "\"\"\"\n",
        "8. \tЕсть список из случайных чисел и строк. \n",
        "Создайте цикл, итерирующийся до тех пор, пока не встретится число \"777\". \n",
        "Если в течении 100 попыток число не будет найдено — остановить цикл\n",
        "и вызвать ошибку с соответсвующим сообщением.\n",
        "\"\"\"\n",
        "#import random\n",
        "#lst = random.sample(range(1, 1000), 200)\n",
        "\n",
        "#lst= ['my_string1', 'my_string2', 'my_string3', 1, 777, 'my_string1', 'my_string2', 'my_string3']\n",
        "lst= ['my_string1', 'my_string2', 'my_string3', 1, 3, 'my_string1', 'my_string2', 'my_string3']\n",
        "\n",
        "n =0\n",
        "while not(lst[n] == 777 or n == 7):\n",
        "  n=n+1\n",
        "  if n == 6:\n",
        "    #break\n",
        "    raise Exception(\"Sorry, there are no 777 in the list\")\n",
        "print(\"We find:{0},{1}\".format(lst[n], n))\n",
        "\n",
        "\n",
        "\n",
        "\n",
        "\n"
      ],
      "metadata": {
        "colab": {
          "base_uri": "https://localhost:8080/",
          "height": 237
        },
        "id": "TZtqY2uoGMY6",
        "outputId": "d93a49f0-591c-4b27-f6cc-ecbb9126a7fe"
      },
      "execution_count": 1,
      "outputs": [
        {
          "output_type": "error",
          "ename": "Exception",
          "evalue": "ignored",
          "traceback": [
            "\u001b[0;31m---------------------------------------------------------------------------\u001b[0m",
            "\u001b[0;31mException\u001b[0m                                 Traceback (most recent call last)",
            "\u001b[0;32m<ipython-input-1-412b13d1c887>\u001b[0m in \u001b[0;36m<module>\u001b[0;34m()\u001b[0m\n\u001b[1;32m     16\u001b[0m   \u001b[0;32mif\u001b[0m \u001b[0mn\u001b[0m \u001b[0;34m==\u001b[0m \u001b[0;36m6\u001b[0m\u001b[0;34m:\u001b[0m\u001b[0;34m\u001b[0m\u001b[0;34m\u001b[0m\u001b[0m\n\u001b[1;32m     17\u001b[0m     \u001b[0;31m#break\u001b[0m\u001b[0;34m\u001b[0m\u001b[0;34m\u001b[0m\u001b[0;34m\u001b[0m\u001b[0m\n\u001b[0;32m---> 18\u001b[0;31m     \u001b[0;32mraise\u001b[0m \u001b[0mException\u001b[0m\u001b[0;34m(\u001b[0m\u001b[0;34m\"Sorry, there are no 777 in the list\"\u001b[0m\u001b[0;34m)\u001b[0m\u001b[0;34m\u001b[0m\u001b[0;34m\u001b[0m\u001b[0m\n\u001b[0m\u001b[1;32m     19\u001b[0m \u001b[0mprint\u001b[0m\u001b[0;34m(\u001b[0m\u001b[0;34m\"We find:{0},{1}\"\u001b[0m\u001b[0;34m.\u001b[0m\u001b[0mformat\u001b[0m\u001b[0;34m(\u001b[0m\u001b[0mlst\u001b[0m\u001b[0;34m[\u001b[0m\u001b[0mn\u001b[0m\u001b[0;34m]\u001b[0m\u001b[0;34m,\u001b[0m \u001b[0mn\u001b[0m\u001b[0;34m)\u001b[0m\u001b[0;34m)\u001b[0m\u001b[0;34m\u001b[0m\u001b[0;34m\u001b[0m\u001b[0m\n\u001b[1;32m     20\u001b[0m \u001b[0;34m\u001b[0m\u001b[0m\n",
            "\u001b[0;31mException\u001b[0m: Sorry, there are no 777 in the list"
          ]
        }
      ]
    },
    {
      "cell_type": "code",
      "source": [
        "\"\"\"\n",
        "9. \tСоздать функцию, которая принимает на вход два списка: \n",
        "первый — список, который нужно очистить от определённых значений, \n",
        "второй — список тех значений, от которых нужно очистить. \n",
        "Например, list1 = [1, 2, 3, 4, 5], list2 = [1, 3, 4], \n",
        "функция должна вернуть [2, 5]\n",
        "\"\"\"\n",
        "\n",
        "list1 = [1, 2, 3, 4, 5]\n",
        "list2 = [1, 3, 4]\n",
        "\n",
        "def affinage(a, b):\n",
        "  for n in range(len(b)):\n",
        "    a.remove(b[n])\n",
        "  return a\n",
        "\n",
        "c = affinage(list1, list2)\n",
        "print(c)"
      ],
      "metadata": {
        "id": "llIoug6RGNDl",
        "colab": {
          "base_uri": "https://localhost:8080/"
        },
        "outputId": "852da931-fa7c-49d9-837a-bdbbcecb11d1"
      },
      "execution_count": null,
      "outputs": [
        {
          "output_type": "stream",
          "name": "stdout",
          "text": [
            "[2, 5]\n"
          ]
        }
      ]
    },
    {
      "cell_type": "markdown",
      "source": [
        ""
      ],
      "metadata": {
        "id": "Q43O-3w8GKki"
      }
    },
    {
      "cell_type": "code",
      "source": [
        ""
      ],
      "metadata": {
        "id": "BbStOFmJbz-k"
      },
      "execution_count": null,
      "outputs": []
    }
  ]
}